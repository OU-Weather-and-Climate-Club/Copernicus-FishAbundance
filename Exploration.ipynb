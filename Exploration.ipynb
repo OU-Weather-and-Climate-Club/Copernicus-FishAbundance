{
 "cells": [
  {
   "cell_type": "markdown",
   "source": [
    "# Fish abundance and catch data\n",
    "\n",
    "[for the Northwest European Shelf and Mediterranean Sea from 2006 to 2098 derived from climate projections](https://cds.climate.copernicus.eu/cdsapp#!/dataset/sis-fisheries-abundance?tab=overview)"
   ],
   "metadata": {
    "collapsed": false
   },
   "id": "a4cdb1f0348f7241"
  },
  {
   "cell_type": "code",
   "execution_count": 1,
   "outputs": [],
   "source": [
    "import netCDF4 as nc\n",
    "import xarray as xr\n",
    "import pandas as pd\n",
    "import numpy as np\n",
    "import matplotlib.pyplot as plt"
   ],
   "metadata": {
    "collapsed": false,
    "ExecuteTime": {
     "end_time": "2023-11-08T16:59:05.216700Z",
     "start_time": "2023-11-08T16:59:03.104296Z"
    }
   },
   "id": "95373b9e04db4d49"
  },
  {
   "cell_type": "markdown",
   "source": [
    "----\n",
    "&nbsp;\n",
    "Need to open .nc files. How do we do this?\n",
    "- [netCDF4 docs](https://unidata.github.io/netcdf4-python/)"
   ],
   "metadata": {
    "collapsed": false
   },
   "id": "8b602526d21cbd81"
  },
  {
   "cell_type": "code",
   "execution_count": 2,
   "id": "initial_id",
   "metadata": {
    "collapsed": true,
    "ExecuteTime": {
     "end_time": "2023-11-08T16:59:40.423397Z",
     "start_time": "2023-11-08T16:59:40.403731Z"
    }
   },
   "outputs": [],
   "source": [
    "# Open bluefin dataset\n",
    "filename = 'Datasets/SS_DBEM_NEMO_fish_abundance-abundance-rcp45-msy06-bluefin_tuna-v0.1.nc'\n",
    "bluefin = nc.Dataset(filename)"
   ]
  },
  {
   "cell_type": "code",
   "execution_count": 3,
   "outputs": [
    {
     "name": "stdout",
     "output_type": "stream",
     "text": [
      "<class 'netCDF4._netCDF4.Dataset'>\n",
      "root group (NETCDF4 data model, file format HDF5):\n",
      "    dimensions(sizes): time(44), latitude(107), longitude(112)\n",
      "    variables(dimensions): float32 bluefin_tuna(time, latitude, longitude), float32 latitude(latitude), float32 longitude(longitude), float64 time(time)\n",
      "    groups: \n"
     ]
    }
   ],
   "source": [
    "print(bluefin)"
   ],
   "metadata": {
    "collapsed": false,
    "ExecuteTime": {
     "end_time": "2023-11-08T16:59:51.311257Z",
     "start_time": "2023-11-08T16:59:51.300501Z"
    }
   },
   "id": "7f52d8aea14149ad"
  },
  {
   "cell_type": "code",
   "execution_count": 4,
   "outputs": [
    {
     "name": "stdout",
     "output_type": "stream",
     "text": [
      "dict_keys(['bluefin_tuna', 'latitude', 'longitude', 'time'])\n"
     ]
    }
   ],
   "source": [
    "print(bluefin.variables.keys()) # Get all variable names"
   ],
   "metadata": {
    "collapsed": false,
    "ExecuteTime": {
     "end_time": "2023-11-08T16:59:53.575553Z",
     "start_time": "2023-11-08T16:59:53.568420Z"
    }
   },
   "id": "b5086de4851d0be2"
  },
  {
   "cell_type": "code",
   "execution_count": 5,
   "outputs": [
    {
     "name": "stdout",
     "output_type": "stream",
     "text": [
      "<class 'netCDF4._netCDF4.Variable'>\n",
      "float32 bluefin_tuna(time, latitude, longitude)\n",
      "    units: count\n",
      "    _FillValue: -9.223372e+18\n",
      "    standard_name: number_of_bluefin_tuna_expected_per_grid_cell\n",
      "    missing_value: -9.223372e+18\n",
      "    long_name: Number of Bluefin Tuna (Thunnus Thynnus) expected per grid cell\n",
      "unlimited dimensions: \n",
      "current shape = (44, 107, 112)\n",
      "filling on\n"
     ]
    }
   ],
   "source": [
    "tuna = bluefin.variables['bluefin_tuna']\n",
    "print(tuna)"
   ],
   "metadata": {
    "collapsed": false,
    "ExecuteTime": {
     "end_time": "2023-11-08T16:59:55.957924Z",
     "start_time": "2023-11-08T16:59:55.945543Z"
    }
   },
   "id": "60de740a733d2bb2"
  },
  {
   "cell_type": "code",
   "execution_count": 6,
   "outputs": [
    {
     "name": "stdout",
     "output_type": "stream",
     "text": [
      "('time', <class 'netCDF4._netCDF4.Dimension'>: name = 'time', size = 44)\n",
      "('latitude', <class 'netCDF4._netCDF4.Dimension'>: name = 'latitude', size = 107)\n",
      "('longitude', <class 'netCDF4._netCDF4.Dimension'>: name = 'longitude', size = 112)\n"
     ]
    }
   ],
   "source": [
    "for variable in bluefin.dimensions.items():\n",
    "    print(variable)"
   ],
   "metadata": {
    "collapsed": false,
    "ExecuteTime": {
     "end_time": "2023-11-08T16:59:58.522360Z",
     "start_time": "2023-11-08T16:59:58.511607Z"
    }
   },
   "id": "6ac5ea0e8e7905"
  },
  {
   "cell_type": "markdown",
   "source": [
    "----\n",
    "&nbsp;\n",
    "## [Data carpentry for Oceanographers](https://adyork.github.io/python-oceanography-lesson/17-Intro-NetCDF/index.html)"
   ],
   "metadata": {
    "collapsed": false
   },
   "id": "9b88909db11c82ba"
  },
  {
   "cell_type": "markdown",
   "source": [
    "## Cleaning dataset and converting to PandasDF using [`xarray`](https://docs.xarray.dev/en/stable/index.html)"
   ],
   "metadata": {
    "collapsed": false
   },
   "id": "5f65950bb3c1af05"
  },
  {
   "cell_type": "code",
   "execution_count": 7,
   "outputs": [],
   "source": [
    "data = xr.open_dataset(filename)\n",
    "bluefin_df = data.to_dataframe()"
   ],
   "metadata": {
    "collapsed": false,
    "ExecuteTime": {
     "end_time": "2023-11-08T17:00:01.240781Z",
     "start_time": "2023-11-08T17:00:01.189160Z"
    }
   },
   "id": "7a76b6ec202bb523"
  },
  {
   "cell_type": "code",
   "execution_count": 8,
   "outputs": [
    {
     "name": "stdout",
     "output_type": "stream",
     "text": [
      "(527296, 1)\n"
     ]
    },
    {
     "data": {
      "text/plain": "                               bluefin_tuna\ntime       latitude longitude              \n2006-01-01 11.25    -19.25              0.0\n                    -18.75              0.0\n                    -18.25              0.0\n                    -17.75              0.0\n                    -17.25              0.0",
      "text/html": "<div>\n<style scoped>\n    .dataframe tbody tr th:only-of-type {\n        vertical-align: middle;\n    }\n\n    .dataframe tbody tr th {\n        vertical-align: top;\n    }\n\n    .dataframe thead th {\n        text-align: right;\n    }\n</style>\n<table border=\"1\" class=\"dataframe\">\n  <thead>\n    <tr style=\"text-align: right;\">\n      <th></th>\n      <th></th>\n      <th></th>\n      <th>bluefin_tuna</th>\n    </tr>\n    <tr>\n      <th>time</th>\n      <th>latitude</th>\n      <th>longitude</th>\n      <th></th>\n    </tr>\n  </thead>\n  <tbody>\n    <tr>\n      <th rowspan=\"5\" valign=\"top\">2006-01-01</th>\n      <th rowspan=\"5\" valign=\"top\">11.25</th>\n      <th>-19.25</th>\n      <td>0.0</td>\n    </tr>\n    <tr>\n      <th>-18.75</th>\n      <td>0.0</td>\n    </tr>\n    <tr>\n      <th>-18.25</th>\n      <td>0.0</td>\n    </tr>\n    <tr>\n      <th>-17.75</th>\n      <td>0.0</td>\n    </tr>\n    <tr>\n      <th>-17.25</th>\n      <td>0.0</td>\n    </tr>\n  </tbody>\n</table>\n</div>"
     },
     "execution_count": 8,
     "metadata": {},
     "output_type": "execute_result"
    }
   ],
   "source": [
    "print(bluefin_df.shape)\n",
    "bluefin_df.head()"
   ],
   "metadata": {
    "collapsed": false,
    "ExecuteTime": {
     "end_time": "2023-11-08T17:00:03.126829Z",
     "start_time": "2023-11-08T17:00:03.092425Z"
    }
   },
   "id": "742910b12414cb96"
  },
  {
   "cell_type": "code",
   "execution_count": 9,
   "outputs": [
    {
     "name": "stdout",
     "output_type": "stream",
     "text": [
      "<class 'pandas.core.frame.DataFrame'>\n",
      "MultiIndex: 527296 entries, (Timestamp('2006-01-01 00:00:00'), 11.25, -19.25) to (Timestamp('2049-01-01 00:00:00'), 64.25, 36.25)\n",
      "Data columns (total 1 columns):\n",
      " #   Column        Non-Null Count   Dtype  \n",
      "---  ------        --------------   -----  \n",
      " 0   bluefin_tuna  527296 non-null  float32\n",
      "dtypes: float32(1)\n",
      "memory usage: 3.5 MB\n",
      "None\n",
      "        bluefin_tuna\n",
      "count  527296.000000\n",
      "mean       16.738878\n",
      "std        91.061317\n",
      "min         0.000000\n",
      "25%         0.000000\n",
      "50%         0.000000\n",
      "75%         0.000000\n",
      "max      1087.010010\n",
      "                               bluefin_tuna\n",
      "time       latitude longitude              \n",
      "2006-01-01 11.25    -19.25              0.0\n",
      "                    -18.75              0.0\n",
      "                    -18.25              0.0\n",
      "                    -17.75              0.0\n",
      "                    -17.25              0.0\n"
     ]
    }
   ],
   "source": [
    "print(bluefin_df.info())\n",
    "print(bluefin_df.describe())\n",
    "print(bluefin_df.head())"
   ],
   "metadata": {
    "collapsed": false,
    "ExecuteTime": {
     "end_time": "2023-11-08T17:00:08.465644Z",
     "start_time": "2023-11-08T17:00:08.404335Z"
    }
   },
   "id": "6f605bfaf4a21cd0"
  },
  {
   "cell_type": "markdown",
   "source": [
    "Split the multiindex dataframe into separate columns"
   ],
   "metadata": {
    "collapsed": false
   },
   "id": "e401250301a8d46f"
  },
  {
   "cell_type": "code",
   "execution_count": 10,
   "outputs": [
    {
     "name": "stdout",
     "output_type": "stream",
     "text": [
      "        time  latitude  longitude  bluefin_tuna\n",
      "0 2006-01-01     11.25     -19.25           0.0\n",
      "1 2006-01-01     11.25     -18.75           0.0\n",
      "2 2006-01-01     11.25     -18.25           0.0\n",
      "3 2006-01-01     11.25     -17.75           0.0\n",
      "4 2006-01-01     11.25     -17.25           0.0\n"
     ]
    }
   ],
   "source": [
    "# Reset index to turn MultiIndex into columns\n",
    "bluefin_df_reset = bluefin_df.reset_index()\n",
    "print(bluefin_df_reset.head())"
   ],
   "metadata": {
    "collapsed": false,
    "ExecuteTime": {
     "end_time": "2023-11-08T17:00:14.729616Z",
     "start_time": "2023-11-08T17:00:14.693279Z"
    }
   },
   "id": "9ac5f89eb4090318"
  },
  {
   "cell_type": "code",
   "execution_count": 11,
   "outputs": [
    {
     "name": "stdout",
     "output_type": "stream",
     "text": [
      "44\n",
      "['2006-01-01T00:00:00.000000000' '2007-01-01T00:00:00.000000000'\n",
      " '2008-01-01T00:00:00.000000000' '2009-01-01T00:00:00.000000000'\n",
      " '2010-01-01T00:00:00.000000000' '2011-01-01T00:00:00.000000000'\n",
      " '2012-01-01T00:00:00.000000000' '2013-01-01T00:00:00.000000000'\n",
      " '2014-01-01T00:00:00.000000000' '2015-01-01T00:00:00.000000000'\n",
      " '2016-01-01T00:00:00.000000000' '2017-01-01T00:00:00.000000000'\n",
      " '2018-01-01T00:00:00.000000000' '2019-01-01T00:00:00.000000000'\n",
      " '2020-01-01T00:00:00.000000000' '2021-01-01T00:00:00.000000000'\n",
      " '2022-01-01T00:00:00.000000000' '2023-01-01T00:00:00.000000000'\n",
      " '2024-01-01T00:00:00.000000000' '2025-01-01T00:00:00.000000000'\n",
      " '2026-01-01T00:00:00.000000000' '2027-01-01T00:00:00.000000000'\n",
      " '2028-01-01T00:00:00.000000000' '2029-01-01T00:00:00.000000000'\n",
      " '2030-01-01T00:00:00.000000000' '2031-01-01T00:00:00.000000000'\n",
      " '2032-01-01T00:00:00.000000000' '2033-01-01T00:00:00.000000000'\n",
      " '2034-01-01T00:00:00.000000000' '2035-01-01T00:00:00.000000000'\n",
      " '2036-01-01T00:00:00.000000000' '2037-01-01T00:00:00.000000000'\n",
      " '2038-01-01T00:00:00.000000000' '2039-01-01T00:00:00.000000000'\n",
      " '2040-01-01T00:00:00.000000000' '2041-01-01T00:00:00.000000000'\n",
      " '2042-01-01T00:00:00.000000000' '2043-01-01T00:00:00.000000000'\n",
      " '2044-01-01T00:00:00.000000000' '2045-01-01T00:00:00.000000000'\n",
      " '2046-01-01T00:00:00.000000000' '2047-01-01T00:00:00.000000000'\n",
      " '2048-01-01T00:00:00.000000000' '2049-01-01T00:00:00.000000000']\n"
     ]
    }
   ],
   "source": [
    "unique_times = bluefin_df_reset['time'].unique()\n",
    "# Print the unique 'time' values to evaluate\n",
    "print(len(unique_times))\n",
    "print(unique_times)"
   ],
   "metadata": {
    "collapsed": false,
    "ExecuteTime": {
     "end_time": "2023-11-08T17:00:37.868005Z",
     "start_time": "2023-11-08T17:00:37.846007Z"
    }
   },
   "id": "9d3c7cef35e7c086"
  },
  {
   "cell_type": "markdown",
   "source": [
    "The timestamps begin in 2006, run to 2049 with entries on 01-01 @ Midnight. \n",
    "&nbsp;\n",
    "### Lose the timestamps and index the dataframe by year"
   ],
   "metadata": {
    "collapsed": false
   },
   "id": "33715d8ef5d67d5b"
  },
  {
   "cell_type": "code",
   "execution_count": 12,
   "outputs": [],
   "source": [
    "# Convert 'time' to datetime\n",
    "bluefin_df_reset['time'] = pd.to_datetime(bluefin_df_reset['time'])\n",
    "\n",
    "# Extract the year\n",
    "bluefin_df_reset['year'] = bluefin_df_reset['time'].dt.year\n",
    "\n",
    "# Index by year\n",
    "bluefin_df_year_indexed = bluefin_df_reset.set_index('year')\n",
    "\n",
    "# No longer need full timestamp\n",
    "bluefin_df_year_indexed.drop(columns='time', inplace=True)"
   ],
   "metadata": {
    "collapsed": false,
    "ExecuteTime": {
     "end_time": "2023-11-08T17:00:52.881284Z",
     "start_time": "2023-11-08T17:00:52.836130Z"
    }
   },
   "id": "e39f5d134f5350cf"
  },
  {
   "cell_type": "code",
   "execution_count": 13,
   "outputs": [
    {
     "data": {
      "text/plain": "      latitude  longitude  bluefin_tuna\nyear                                   \n2006     11.25     -19.25           0.0\n2006     11.25     -18.75           0.0\n2006     11.25     -18.25           0.0\n2006     11.25     -17.75           0.0\n2006     11.25     -17.25           0.0",
      "text/html": "<div>\n<style scoped>\n    .dataframe tbody tr th:only-of-type {\n        vertical-align: middle;\n    }\n\n    .dataframe tbody tr th {\n        vertical-align: top;\n    }\n\n    .dataframe thead th {\n        text-align: right;\n    }\n</style>\n<table border=\"1\" class=\"dataframe\">\n  <thead>\n    <tr style=\"text-align: right;\">\n      <th></th>\n      <th>latitude</th>\n      <th>longitude</th>\n      <th>bluefin_tuna</th>\n    </tr>\n    <tr>\n      <th>year</th>\n      <th></th>\n      <th></th>\n      <th></th>\n    </tr>\n  </thead>\n  <tbody>\n    <tr>\n      <th>2006</th>\n      <td>11.25</td>\n      <td>-19.25</td>\n      <td>0.0</td>\n    </tr>\n    <tr>\n      <th>2006</th>\n      <td>11.25</td>\n      <td>-18.75</td>\n      <td>0.0</td>\n    </tr>\n    <tr>\n      <th>2006</th>\n      <td>11.25</td>\n      <td>-18.25</td>\n      <td>0.0</td>\n    </tr>\n    <tr>\n      <th>2006</th>\n      <td>11.25</td>\n      <td>-17.75</td>\n      <td>0.0</td>\n    </tr>\n    <tr>\n      <th>2006</th>\n      <td>11.25</td>\n      <td>-17.25</td>\n      <td>0.0</td>\n    </tr>\n  </tbody>\n</table>\n</div>"
     },
     "execution_count": 13,
     "metadata": {},
     "output_type": "execute_result"
    }
   ],
   "source": [
    "bluefin_df = bluefin_df_year_indexed.copy()\n",
    "bluefin_df.head()"
   ],
   "metadata": {
    "collapsed": false,
    "ExecuteTime": {
     "end_time": "2023-11-08T17:00:55.742265Z",
     "start_time": "2023-11-08T17:00:55.731887Z"
    }
   },
   "id": "327c92101ed52c5b"
  },
  {
   "cell_type": "markdown",
   "source": [
    "Count missing data where value is NaN"
   ],
   "metadata": {
    "collapsed": false
   },
   "id": "f3eea03f866e7abf"
  },
  {
   "cell_type": "code",
   "execution_count": 14,
   "outputs": [
    {
     "name": "stdout",
     "output_type": "stream",
     "text": [
      "latitude        527296\n",
      "longitude       527296\n",
      "bluefin_tuna    527296\n",
      "dtype: int64\n"
     ]
    },
    {
     "data": {
      "text/plain": "           latitude      longitude   bluefin_tuna\ncount  527296.00000  527296.000000  527296.000000\nmean       37.75000       8.500000      16.738878\nstd        15.44346      16.165178      91.061317\nmin        11.25000     -19.250000       0.000000\n25%        24.25000      -5.375000       0.000000\n50%        37.75000       8.500000       0.000000\n75%        51.25000      22.375000       0.000000\nmax        64.25000      36.250000    1087.010010",
      "text/html": "<div>\n<style scoped>\n    .dataframe tbody tr th:only-of-type {\n        vertical-align: middle;\n    }\n\n    .dataframe tbody tr th {\n        vertical-align: top;\n    }\n\n    .dataframe thead th {\n        text-align: right;\n    }\n</style>\n<table border=\"1\" class=\"dataframe\">\n  <thead>\n    <tr style=\"text-align: right;\">\n      <th></th>\n      <th>latitude</th>\n      <th>longitude</th>\n      <th>bluefin_tuna</th>\n    </tr>\n  </thead>\n  <tbody>\n    <tr>\n      <th>count</th>\n      <td>527296.00000</td>\n      <td>527296.000000</td>\n      <td>527296.000000</td>\n    </tr>\n    <tr>\n      <th>mean</th>\n      <td>37.75000</td>\n      <td>8.500000</td>\n      <td>16.738878</td>\n    </tr>\n    <tr>\n      <th>std</th>\n      <td>15.44346</td>\n      <td>16.165178</td>\n      <td>91.061317</td>\n    </tr>\n    <tr>\n      <th>min</th>\n      <td>11.25000</td>\n      <td>-19.250000</td>\n      <td>0.000000</td>\n    </tr>\n    <tr>\n      <th>25%</th>\n      <td>24.25000</td>\n      <td>-5.375000</td>\n      <td>0.000000</td>\n    </tr>\n    <tr>\n      <th>50%</th>\n      <td>37.75000</td>\n      <td>8.500000</td>\n      <td>0.000000</td>\n    </tr>\n    <tr>\n      <th>75%</th>\n      <td>51.25000</td>\n      <td>22.375000</td>\n      <td>0.000000</td>\n    </tr>\n    <tr>\n      <th>max</th>\n      <td>64.25000</td>\n      <td>36.250000</td>\n      <td>1087.010010</td>\n    </tr>\n  </tbody>\n</table>\n</div>"
     },
     "execution_count": 14,
     "metadata": {},
     "output_type": "execute_result"
    }
   ],
   "source": [
    "print(bluefin_df.isna().count())\n",
    "bluefin_df.describe()"
   ],
   "metadata": {
    "collapsed": false,
    "ExecuteTime": {
     "end_time": "2023-11-08T17:01:01.120805Z",
     "start_time": "2023-11-08T17:01:01.037275Z"
    }
   },
   "id": "f60b63ad952c3d49"
  },
  {
   "cell_type": "markdown",
   "source": [
    "What fraction of areas 'have some tuna'"
   ],
   "metadata": {
    "collapsed": false
   },
   "id": "bb3d1c7becde06f7"
  },
  {
   "cell_type": "code",
   "execution_count": 15,
   "outputs": [
    {
     "name": "stdout",
     "output_type": "stream",
     "text": [
      "(33926, 3)\n"
     ]
    },
    {
     "data": {
      "text/plain": "      latitude  longitude  bluefin_tuna\nyear                                   \n2006     40.75     -14.25    123.875801\n2006     40.75     -13.75    905.601990\n2006     40.75     -13.25    912.266724\n2006     40.75     -12.75    908.849609\n2006     40.75     -12.25    897.571411",
      "text/html": "<div>\n<style scoped>\n    .dataframe tbody tr th:only-of-type {\n        vertical-align: middle;\n    }\n\n    .dataframe tbody tr th {\n        vertical-align: top;\n    }\n\n    .dataframe thead th {\n        text-align: right;\n    }\n</style>\n<table border=\"1\" class=\"dataframe\">\n  <thead>\n    <tr style=\"text-align: right;\">\n      <th></th>\n      <th>latitude</th>\n      <th>longitude</th>\n      <th>bluefin_tuna</th>\n    </tr>\n    <tr>\n      <th>year</th>\n      <th></th>\n      <th></th>\n      <th></th>\n    </tr>\n  </thead>\n  <tbody>\n    <tr>\n      <th>2006</th>\n      <td>40.75</td>\n      <td>-14.25</td>\n      <td>123.875801</td>\n    </tr>\n    <tr>\n      <th>2006</th>\n      <td>40.75</td>\n      <td>-13.75</td>\n      <td>905.601990</td>\n    </tr>\n    <tr>\n      <th>2006</th>\n      <td>40.75</td>\n      <td>-13.25</td>\n      <td>912.266724</td>\n    </tr>\n    <tr>\n      <th>2006</th>\n      <td>40.75</td>\n      <td>-12.75</td>\n      <td>908.849609</td>\n    </tr>\n    <tr>\n      <th>2006</th>\n      <td>40.75</td>\n      <td>-12.25</td>\n      <td>897.571411</td>\n    </tr>\n  </tbody>\n</table>\n</div>"
     },
     "execution_count": 15,
     "metadata": {},
     "output_type": "execute_result"
    }
   ],
   "source": [
    "some_tuna = bluefin_df[bluefin_df['bluefin_tuna'] != 0.0]\n",
    "print(some_tuna.shape)\n",
    "some_tuna.head()"
   ],
   "metadata": {
    "collapsed": false,
    "ExecuteTime": {
     "end_time": "2023-11-08T17:01:31.053140Z",
     "start_time": "2023-11-08T17:01:31.021660Z"
    }
   },
   "id": "9600d4ba047fe4ec"
  },
  {
   "cell_type": "markdown",
   "source": [
    "Roughly 10%"
   ],
   "metadata": {
    "collapsed": false
   },
   "id": "ec5874e0f6f09eff"
  },
  {
   "cell_type": "code",
   "execution_count": 16,
   "outputs": [
    {
     "name": "stdout",
     "output_type": "stream",
     "text": [
      "<class 'netCDF4._netCDF4.Variable'>\n",
      "float32 bluefin_tuna(time, latitude, longitude)\n",
      "    units: count\n",
      "    _FillValue: -9.223372e+18\n",
      "    standard_name: number_of_bluefin_tuna_expected_per_grid_cell\n",
      "    missing_value: -9.223372e+18\n",
      "    long_name: Number of Bluefin Tuna (Thunnus Thynnus) expected per grid cell\n",
      "unlimited dimensions: \n",
      "current shape = (44, 107, 112)\n",
      "filling on\n"
     ]
    }
   ],
   "source": [
    "# Values of the .nc data now represented in Pandas\n",
    "print(tuna)"
   ],
   "metadata": {
    "collapsed": false,
    "ExecuteTime": {
     "end_time": "2023-11-08T17:01:36.364860Z",
     "start_time": "2023-11-08T17:01:36.354369Z"
    }
   },
   "id": "e28be85b74babc75"
  },
  {
   "cell_type": "markdown",
   "source": [
    "### Dataset contains;\n",
    "\n",
    "- Number of Bluefin Tuna (Thunnus Thynnus) expected per grid cell\n",
    "- With grid cells of\n",
    "    - $44 \\ \\mathrm{years} \\times 107 \\ \\mathrm{latitudes} \\times 112 \\ \\mathrm{longitudes} = 527296 \\ \\mathrm{data points}$\n",
    "- zero NaN"
   ],
   "metadata": {
    "collapsed": false
   },
   "id": "a8cb84abadb4f0ba"
  },
  {
   "cell_type": "markdown",
   "source": [
    "----\n",
    "&nbsp;\n",
    "#### Attaching Geospatial data to the Pandas DF"
   ],
   "metadata": {
    "collapsed": false
   },
   "id": "97cca1104a7f9588"
  },
  {
   "cell_type": "code",
   "execution_count": 17,
   "outputs": [],
   "source": [
    "import geopandas as gpd\n",
    "from shapely.geometry import Point"
   ],
   "metadata": {
    "collapsed": false,
    "ExecuteTime": {
     "end_time": "2023-11-08T17:01:51.155623Z",
     "start_time": "2023-11-08T17:01:50.994087Z"
    }
   },
   "id": "2da503d6e9c0882b"
  },
  {
   "cell_type": "code",
   "execution_count": 18,
   "outputs": [
    {
     "data": {
      "text/plain": "      latitude  longitude  bluefin_tuna                    geometry\nyear                                                               \n2006     11.25     -19.25           0.0  POINT (-19.25000 11.25000)\n2006     11.25     -18.75           0.0  POINT (-18.75000 11.25000)\n2006     11.25     -18.25           0.0  POINT (-18.25000 11.25000)\n2006     11.25     -17.75           0.0  POINT (-17.75000 11.25000)\n2006     11.25     -17.25           0.0  POINT (-17.25000 11.25000)\n...        ...        ...           ...                         ...\n2049     64.25      34.25           0.0   POINT (34.25000 64.25000)\n2049     64.25      34.75           0.0   POINT (34.75000 64.25000)\n2049     64.25      35.25           0.0   POINT (35.25000 64.25000)\n2049     64.25      35.75           0.0   POINT (35.75000 64.25000)\n2049     64.25      36.25           0.0   POINT (36.25000 64.25000)\n\n[527296 rows x 4 columns]",
      "text/html": "<div>\n<style scoped>\n    .dataframe tbody tr th:only-of-type {\n        vertical-align: middle;\n    }\n\n    .dataframe tbody tr th {\n        vertical-align: top;\n    }\n\n    .dataframe thead th {\n        text-align: right;\n    }\n</style>\n<table border=\"1\" class=\"dataframe\">\n  <thead>\n    <tr style=\"text-align: right;\">\n      <th></th>\n      <th>latitude</th>\n      <th>longitude</th>\n      <th>bluefin_tuna</th>\n      <th>geometry</th>\n    </tr>\n    <tr>\n      <th>year</th>\n      <th></th>\n      <th></th>\n      <th></th>\n      <th></th>\n    </tr>\n  </thead>\n  <tbody>\n    <tr>\n      <th>2006</th>\n      <td>11.25</td>\n      <td>-19.25</td>\n      <td>0.0</td>\n      <td>POINT (-19.25000 11.25000)</td>\n    </tr>\n    <tr>\n      <th>2006</th>\n      <td>11.25</td>\n      <td>-18.75</td>\n      <td>0.0</td>\n      <td>POINT (-18.75000 11.25000)</td>\n    </tr>\n    <tr>\n      <th>2006</th>\n      <td>11.25</td>\n      <td>-18.25</td>\n      <td>0.0</td>\n      <td>POINT (-18.25000 11.25000)</td>\n    </tr>\n    <tr>\n      <th>2006</th>\n      <td>11.25</td>\n      <td>-17.75</td>\n      <td>0.0</td>\n      <td>POINT (-17.75000 11.25000)</td>\n    </tr>\n    <tr>\n      <th>2006</th>\n      <td>11.25</td>\n      <td>-17.25</td>\n      <td>0.0</td>\n      <td>POINT (-17.25000 11.25000)</td>\n    </tr>\n    <tr>\n      <th>...</th>\n      <td>...</td>\n      <td>...</td>\n      <td>...</td>\n      <td>...</td>\n    </tr>\n    <tr>\n      <th>2049</th>\n      <td>64.25</td>\n      <td>34.25</td>\n      <td>0.0</td>\n      <td>POINT (34.25000 64.25000)</td>\n    </tr>\n    <tr>\n      <th>2049</th>\n      <td>64.25</td>\n      <td>34.75</td>\n      <td>0.0</td>\n      <td>POINT (34.75000 64.25000)</td>\n    </tr>\n    <tr>\n      <th>2049</th>\n      <td>64.25</td>\n      <td>35.25</td>\n      <td>0.0</td>\n      <td>POINT (35.25000 64.25000)</td>\n    </tr>\n    <tr>\n      <th>2049</th>\n      <td>64.25</td>\n      <td>35.75</td>\n      <td>0.0</td>\n      <td>POINT (35.75000 64.25000)</td>\n    </tr>\n    <tr>\n      <th>2049</th>\n      <td>64.25</td>\n      <td>36.25</td>\n      <td>0.0</td>\n      <td>POINT (36.25000 64.25000)</td>\n    </tr>\n  </tbody>\n</table>\n<p>527296 rows × 4 columns</p>\n</div>"
     },
     "execution_count": 18,
     "metadata": {},
     "output_type": "execute_result"
    }
   ],
   "source": [
    "# Assuming some_tuna is your existing pandas DataFrame\n",
    "# Create a new column 'geometry' with Point objects from the latitude and longitude\n",
    "bluefin_df['geometry'] = bluefin_df.apply(lambda row: Point(row['longitude'], row['latitude']), axis=1)\n",
    "\n",
    "# Convert the pandas DataFrame with a 'geometry' column into a GeoDataFrame\n",
    "geo_tuna = gpd.GeoDataFrame(bluefin_df, geometry='geometry')\n",
    "\n",
    "# Set the CRS for the GeoDataFrame to WGS84 (lat/long)\n",
    "geo_tuna.set_crs(epsg=4326, inplace=True)"
   ],
   "metadata": {
    "collapsed": false,
    "ExecuteTime": {
     "end_time": "2023-11-08T17:02:04.367028Z",
     "start_time": "2023-11-08T17:01:55.512035Z"
    }
   },
   "id": "b8ac9349397aa333"
  },
  {
   "cell_type": "code",
   "execution_count": 63,
   "outputs": [],
   "source": [
    "# Uncomment below to export as GeoJSON file\n",
    "#geo_tuna.to_file('geo_files/bluefin_tuna.geojson', driver='GeoJSON')"
   ],
   "metadata": {
    "collapsed": false,
    "ExecuteTime": {
     "end_time": "2023-11-08T16:49:20.822939Z",
     "start_time": "2023-11-08T16:48:54.683495Z"
    }
   },
   "id": "d6538d2a4f18ea6c"
  },
  {
   "cell_type": "markdown",
   "source": [
    "----\n",
    "&nbsp;\n",
    "### Try a basic plot"
   ],
   "metadata": {
    "collapsed": false
   },
   "id": "aa798443aaa04e96"
  },
  {
   "cell_type": "code",
   "execution_count": null,
   "outputs": [],
   "source": [],
   "metadata": {
    "collapsed": false
   },
   "id": "99621634412ede3"
  }
 ],
 "metadata": {
  "kernelspec": {
   "display_name": "Python 3",
   "language": "python",
   "name": "python3"
  },
  "language_info": {
   "codemirror_mode": {
    "name": "ipython",
    "version": 2
   },
   "file_extension": ".py",
   "mimetype": "text/x-python",
   "name": "python",
   "nbconvert_exporter": "python",
   "pygments_lexer": "ipython2",
   "version": "2.7.6"
  }
 },
 "nbformat": 4,
 "nbformat_minor": 5
}
